{
  "nbformat": 4,
  "nbformat_minor": 0,
  "metadata": {
    "colab": {
      "provenance": [],
      "include_colab_link": true
    },
    "kernelspec": {
      "name": "python3",
      "display_name": "Python 3"
    },
    "widgets": {
      "application/vnd.jupyter.widget-state+json": {
        "e33718e65b5840d5b8c5e21ef81620a1": {
          "model_module": "@jupyter-widgets/controls",
          "model_name": "VBoxModel",
          "model_module_version": "1.5.0",
          "state": {
            "_dom_classes": [
              "widget-interact"
            ],
            "_model_module": "@jupyter-widgets/controls",
            "_model_module_version": "1.5.0",
            "_model_name": "VBoxModel",
            "_view_count": null,
            "_view_module": "@jupyter-widgets/controls",
            "_view_module_version": "1.5.0",
            "_view_name": "VBoxView",
            "box_style": "",
            "children": [
              "IPY_MODEL_df94623b0e784f3aa2fe19feabcddaff",
              "IPY_MODEL_322f7fc747e74ca497d375f14ac334fa"
            ],
            "layout": "IPY_MODEL_065d20e3f26243bd907740f861abc899"
          }
        },
        "df94623b0e784f3aa2fe19feabcddaff": {
          "model_module": "@jupyter-widgets/controls",
          "model_name": "ToggleButtonsModel",
          "model_module_version": "1.5.0",
          "state": {
            "_dom_classes": [],
            "_model_module": "@jupyter-widgets/controls",
            "_model_module_version": "1.5.0",
            "_model_name": "ToggleButtonsModel",
            "_options_labels": [
              "Pipeline Plot",
              "Hyperparameters",
              "AUC",
              "Confusion Matrix",
              "Threshold",
              "Precision Recall",
              "Prediction Error",
              "Class Report",
              "Feature Selection",
              "Learning Curve",
              "Manifold Learning",
              "Calibration Curve",
              "Validation Curve",
              "Dimensions",
              "Feature Importance",
              "Feature Importance (All)",
              "Decision Boundary",
              "Lift Chart",
              "Gain Chart",
              "Decision Tree",
              "KS Statistic Plot"
            ],
            "_view_count": null,
            "_view_module": "@jupyter-widgets/controls",
            "_view_module_version": "1.5.0",
            "_view_name": "ToggleButtonsView",
            "button_style": "",
            "description": "Plot Type:",
            "description_tooltip": null,
            "disabled": false,
            "icons": [
              ""
            ],
            "index": 12,
            "layout": "IPY_MODEL_7a38c73e8de249849acdb2e8646f76e3",
            "style": "IPY_MODEL_c6c5baf3b93e4086aa32d60bf0435bcc",
            "tooltips": []
          }
        },
        "322f7fc747e74ca497d375f14ac334fa": {
          "model_module": "@jupyter-widgets/output",
          "model_name": "OutputModel",
          "model_module_version": "1.0.0",
          "state": {
            "_dom_classes": [],
            "_model_module": "@jupyter-widgets/output",
            "_model_module_version": "1.0.0",
            "_model_name": "OutputModel",
            "_view_count": null,
            "_view_module": "@jupyter-widgets/output",
            "_view_module_version": "1.0.0",
            "_view_name": "OutputView",
            "layout": "IPY_MODEL_6210c60d97654498a31f929511eb1563",
            "msg_id": "bf198003-cb3c-453f-e462-b4644037af44",
            "outputs": [
              {
                "output_type": "display_data",
                "data": {
                  "text/plain": "<Figure size 800x550 with 1 Axes>",
                  "image/png": "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\n"
                },
                "metadata": {}
              }
            ]
          }
        },
        "065d20e3f26243bd907740f861abc899": {
          "model_module": "@jupyter-widgets/base",
          "model_name": "LayoutModel",
          "model_module_version": "1.2.0",
          "state": {
            "_model_module": "@jupyter-widgets/base",
            "_model_module_version": "1.2.0",
            "_model_name": "LayoutModel",
            "_view_count": null,
            "_view_module": "@jupyter-widgets/base",
            "_view_module_version": "1.2.0",
            "_view_name": "LayoutView",
            "align_content": null,
            "align_items": null,
            "align_self": null,
            "border": null,
            "bottom": null,
            "display": null,
            "flex": null,
            "flex_flow": null,
            "grid_area": null,
            "grid_auto_columns": null,
            "grid_auto_flow": null,
            "grid_auto_rows": null,
            "grid_column": null,
            "grid_gap": null,
            "grid_row": null,
            "grid_template_areas": null,
            "grid_template_columns": null,
            "grid_template_rows": null,
            "height": null,
            "justify_content": null,
            "justify_items": null,
            "left": null,
            "margin": null,
            "max_height": null,
            "max_width": null,
            "min_height": null,
            "min_width": null,
            "object_fit": null,
            "object_position": null,
            "order": null,
            "overflow": null,
            "overflow_x": null,
            "overflow_y": null,
            "padding": null,
            "right": null,
            "top": null,
            "visibility": null,
            "width": null
          }
        },
        "7a38c73e8de249849acdb2e8646f76e3": {
          "model_module": "@jupyter-widgets/base",
          "model_name": "LayoutModel",
          "model_module_version": "1.2.0",
          "state": {
            "_model_module": "@jupyter-widgets/base",
            "_model_module_version": "1.2.0",
            "_model_name": "LayoutModel",
            "_view_count": null,
            "_view_module": "@jupyter-widgets/base",
            "_view_module_version": "1.2.0",
            "_view_name": "LayoutView",
            "align_content": null,
            "align_items": null,
            "align_self": null,
            "border": null,
            "bottom": null,
            "display": null,
            "flex": null,
            "flex_flow": null,
            "grid_area": null,
            "grid_auto_columns": null,
            "grid_auto_flow": null,
            "grid_auto_rows": null,
            "grid_column": null,
            "grid_gap": null,
            "grid_row": null,
            "grid_template_areas": null,
            "grid_template_columns": null,
            "grid_template_rows": null,
            "height": null,
            "justify_content": null,
            "justify_items": null,
            "left": null,
            "margin": null,
            "max_height": null,
            "max_width": null,
            "min_height": null,
            "min_width": null,
            "object_fit": null,
            "object_position": null,
            "order": null,
            "overflow": null,
            "overflow_x": null,
            "overflow_y": null,
            "padding": null,
            "right": null,
            "top": null,
            "visibility": null,
            "width": null
          }
        },
        "c6c5baf3b93e4086aa32d60bf0435bcc": {
          "model_module": "@jupyter-widgets/controls",
          "model_name": "ToggleButtonsStyleModel",
          "model_module_version": "1.5.0",
          "state": {
            "_model_module": "@jupyter-widgets/controls",
            "_model_module_version": "1.5.0",
            "_model_name": "ToggleButtonsStyleModel",
            "_view_count": null,
            "_view_module": "@jupyter-widgets/base",
            "_view_module_version": "1.2.0",
            "_view_name": "StyleView",
            "button_width": "",
            "description_width": "",
            "font_weight": ""
          }
        },
        "6210c60d97654498a31f929511eb1563": {
          "model_module": "@jupyter-widgets/base",
          "model_name": "LayoutModel",
          "model_module_version": "1.2.0",
          "state": {
            "_model_module": "@jupyter-widgets/base",
            "_model_module_version": "1.2.0",
            "_model_name": "LayoutModel",
            "_view_count": null,
            "_view_module": "@jupyter-widgets/base",
            "_view_module_version": "1.2.0",
            "_view_name": "LayoutView",
            "align_content": null,
            "align_items": null,
            "align_self": null,
            "border": null,
            "bottom": null,
            "display": null,
            "flex": null,
            "flex_flow": null,
            "grid_area": null,
            "grid_auto_columns": null,
            "grid_auto_flow": null,
            "grid_auto_rows": null,
            "grid_column": null,
            "grid_gap": null,
            "grid_row": null,
            "grid_template_areas": null,
            "grid_template_columns": null,
            "grid_template_rows": null,
            "height": null,
            "justify_content": null,
            "justify_items": null,
            "left": null,
            "margin": null,
            "max_height": null,
            "max_width": null,
            "min_height": null,
            "min_width": null,
            "object_fit": null,
            "object_position": null,
            "order": null,
            "overflow": null,
            "overflow_x": null,
            "overflow_y": null,
            "padding": null,
            "right": null,
            "top": null,
            "visibility": null,
            "width": null
          }
        }
      }
    }
  },
  "cells": [
    {
      "cell_type": "markdown",
      "metadata": {
        "id": "view-in-github",
        "colab_type": "text"
      },
      "source": [
        "<a href=\"https://colab.research.google.com/github/kwstasp24/Test-Ekpa/blob/main/DGA_Classification.ipynb\" target=\"_parent\"><img src=\"https://colab.research.google.com/assets/colab-badge.svg\" alt=\"Open In Colab\"/></a>"
      ]
    },
    {
      "cell_type": "code",
      "metadata": {
        "id": "2rvGqQdY9C6s",
        "outputId": "43372323-28b2-4d36-8f33-a5e5659a5c08",
        "colab": {
          "base_uri": "https://localhost:8080/"
        }
      },
      "source": [
        "#εγκατάσταση πακέτου pycaret (https://pycaret.org/)\n",
        "!pip install pycaret\n",
        "#***ΠΡΟΣΟΧΗ*** μετά την εγκατάσταση χρειάζεται restart το session\n",
        "#***θα σας ζητηθεί επανεκκίνηση με σχετικό κόκκινο μήνυμα μετά την ολοκλήρωση της εγκατάστασης\n",
        "#***Πατήστε το κουμπί RESTART SESSION στο σχετικό μήνυμα"
      ],
      "execution_count": 1,
      "outputs": [
        {
          "output_type": "stream",
          "name": "stdout",
          "text": [
            "Requirement already satisfied: pycaret in /usr/local/lib/python3.11/dist-packages (3.3.2)\n",
            "Requirement already satisfied: ipython>=5.5.0 in /usr/local/lib/python3.11/dist-packages (from pycaret) (7.34.0)\n",
            "Requirement already satisfied: ipywidgets>=7.6.5 in /usr/local/lib/python3.11/dist-packages (from pycaret) (7.7.1)\n",
            "Requirement already satisfied: tqdm>=4.62.0 in /usr/local/lib/python3.11/dist-packages (from pycaret) (4.67.1)\n",
            "Requirement already satisfied: numpy<1.27,>=1.21 in /usr/local/lib/python3.11/dist-packages (from pycaret) (1.26.4)\n",
            "Requirement already satisfied: pandas<2.2.0 in /usr/local/lib/python3.11/dist-packages (from pycaret) (2.1.4)\n",
            "Requirement already satisfied: jinja2>=3 in /usr/local/lib/python3.11/dist-packages (from pycaret) (3.1.5)\n",
            "Requirement already satisfied: scipy<=1.11.4,>=1.6.1 in /usr/local/lib/python3.11/dist-packages (from pycaret) (1.11.4)\n",
            "Requirement already satisfied: joblib<1.4,>=1.2.0 in /usr/local/lib/python3.11/dist-packages (from pycaret) (1.3.2)\n",
            "Requirement already satisfied: scikit-learn>1.4.0 in /usr/local/lib/python3.11/dist-packages (from pycaret) (1.4.2)\n",
            "Requirement already satisfied: pyod>=1.1.3 in /usr/local/lib/python3.11/dist-packages (from pycaret) (2.0.3)\n",
            "Requirement already satisfied: imbalanced-learn>=0.12.0 in /usr/local/lib/python3.11/dist-packages (from pycaret) (0.13.0)\n",
            "Requirement already satisfied: category-encoders>=2.4.0 in /usr/local/lib/python3.11/dist-packages (from pycaret) (2.7.0)\n",
            "Requirement already satisfied: lightgbm>=3.0.0 in /usr/local/lib/python3.11/dist-packages (from pycaret) (4.5.0)\n",
            "Requirement already satisfied: numba>=0.55.0 in /usr/local/lib/python3.11/dist-packages (from pycaret) (0.61.0)\n",
            "Requirement already satisfied: requests>=2.27.1 in /usr/local/lib/python3.11/dist-packages (from pycaret) (2.32.3)\n",
            "Requirement already satisfied: psutil>=5.9.0 in /usr/local/lib/python3.11/dist-packages (from pycaret) (5.9.5)\n",
            "Requirement already satisfied: markupsafe>=2.0.1 in /usr/local/lib/python3.11/dist-packages (from pycaret) (3.0.2)\n",
            "Requirement already satisfied: importlib-metadata>=4.12.0 in /usr/local/lib/python3.11/dist-packages (from pycaret) (8.6.1)\n",
            "Requirement already satisfied: nbformat>=4.2.0 in /usr/local/lib/python3.11/dist-packages (from pycaret) (5.10.4)\n",
            "Requirement already satisfied: cloudpickle in /usr/local/lib/python3.11/dist-packages (from pycaret) (3.1.1)\n",
            "Requirement already satisfied: deprecation>=2.1.0 in /usr/local/lib/python3.11/dist-packages (from pycaret) (2.1.0)\n",
            "Requirement already satisfied: xxhash in /usr/local/lib/python3.11/dist-packages (from pycaret) (3.5.0)\n",
            "Requirement already satisfied: matplotlib<3.8.0 in /usr/local/lib/python3.11/dist-packages (from pycaret) (3.7.5)\n",
            "Requirement already satisfied: scikit-plot>=0.3.7 in /usr/local/lib/python3.11/dist-packages (from pycaret) (0.3.7)\n",
            "Requirement already satisfied: yellowbrick>=1.4 in /usr/local/lib/python3.11/dist-packages (from pycaret) (1.5)\n",
            "Requirement already satisfied: plotly>=5.14.0 in /usr/local/lib/python3.11/dist-packages (from pycaret) (5.24.1)\n",
            "Requirement already satisfied: kaleido>=0.2.1 in /usr/local/lib/python3.11/dist-packages (from pycaret) (0.2.1)\n",
            "Requirement already satisfied: schemdraw==0.15 in /usr/local/lib/python3.11/dist-packages (from pycaret) (0.15)\n",
            "Requirement already satisfied: plotly-resampler>=0.8.3.1 in /usr/local/lib/python3.11/dist-packages (from pycaret) (0.10.0)\n",
            "Requirement already satisfied: statsmodels>=0.12.1 in /usr/local/lib/python3.11/dist-packages (from pycaret) (0.14.4)\n",
            "Requirement already satisfied: sktime==0.26.0 in /usr/local/lib/python3.11/dist-packages (from pycaret) (0.26.0)\n",
            "Requirement already satisfied: tbats>=1.1.3 in /usr/local/lib/python3.11/dist-packages (from pycaret) (1.1.3)\n",
            "Requirement already satisfied: pmdarima>=2.0.4 in /usr/local/lib/python3.11/dist-packages (from pycaret) (2.0.4)\n",
            "Requirement already satisfied: wurlitzer in /usr/local/lib/python3.11/dist-packages (from pycaret) (3.1.1)\n",
            "Requirement already satisfied: packaging in /usr/local/lib/python3.11/dist-packages (from sktime==0.26.0->pycaret) (24.2)\n",
            "Requirement already satisfied: scikit-base<0.8.0 in /usr/local/lib/python3.11/dist-packages (from sktime==0.26.0->pycaret) (0.7.8)\n",
            "Requirement already satisfied: patsy>=0.5.1 in /usr/local/lib/python3.11/dist-packages (from category-encoders>=2.4.0->pycaret) (1.0.1)\n",
            "Requirement already satisfied: sklearn-compat<1,>=0.1 in /usr/local/lib/python3.11/dist-packages (from imbalanced-learn>=0.12.0->pycaret) (0.1.3)\n",
            "Requirement already satisfied: threadpoolctl<4,>=2.0.0 in /usr/local/lib/python3.11/dist-packages (from imbalanced-learn>=0.12.0->pycaret) (3.5.0)\n",
            "Requirement already satisfied: zipp>=3.20 in /usr/local/lib/python3.11/dist-packages (from importlib-metadata>=4.12.0->pycaret) (3.21.0)\n",
            "Requirement already satisfied: setuptools>=18.5 in /usr/local/lib/python3.11/dist-packages (from ipython>=5.5.0->pycaret) (75.1.0)\n",
            "Requirement already satisfied: jedi>=0.16 in /usr/local/lib/python3.11/dist-packages (from ipython>=5.5.0->pycaret) (0.19.2)\n",
            "Requirement already satisfied: decorator in /usr/local/lib/python3.11/dist-packages (from ipython>=5.5.0->pycaret) (4.4.2)\n",
            "Requirement already satisfied: pickleshare in /usr/local/lib/python3.11/dist-packages (from ipython>=5.5.0->pycaret) (0.7.5)\n",
            "Requirement already satisfied: traitlets>=4.2 in /usr/local/lib/python3.11/dist-packages (from ipython>=5.5.0->pycaret) (5.7.1)\n",
            "Requirement already satisfied: prompt-toolkit!=3.0.0,!=3.0.1,<3.1.0,>=2.0.0 in /usr/local/lib/python3.11/dist-packages (from ipython>=5.5.0->pycaret) (3.0.50)\n",
            "Requirement already satisfied: pygments in /usr/local/lib/python3.11/dist-packages (from ipython>=5.5.0->pycaret) (2.18.0)\n",
            "Requirement already satisfied: backcall in /usr/local/lib/python3.11/dist-packages (from ipython>=5.5.0->pycaret) (0.2.0)\n",
            "Requirement already satisfied: matplotlib-inline in /usr/local/lib/python3.11/dist-packages (from ipython>=5.5.0->pycaret) (0.1.7)\n",
            "Requirement already satisfied: pexpect>4.3 in /usr/local/lib/python3.11/dist-packages (from ipython>=5.5.0->pycaret) (4.9.0)\n",
            "Requirement already satisfied: ipykernel>=4.5.1 in /usr/local/lib/python3.11/dist-packages (from ipywidgets>=7.6.5->pycaret) (6.17.1)\n",
            "Requirement already satisfied: ipython-genutils~=0.2.0 in /usr/local/lib/python3.11/dist-packages (from ipywidgets>=7.6.5->pycaret) (0.2.0)\n",
            "Requirement already satisfied: widgetsnbextension~=3.6.0 in /usr/local/lib/python3.11/dist-packages (from ipywidgets>=7.6.5->pycaret) (3.6.10)\n",
            "Requirement already satisfied: jupyterlab-widgets>=1.0.0 in /usr/local/lib/python3.11/dist-packages (from ipywidgets>=7.6.5->pycaret) (3.0.13)\n",
            "Requirement already satisfied: contourpy>=1.0.1 in /usr/local/lib/python3.11/dist-packages (from matplotlib<3.8.0->pycaret) (1.3.1)\n",
            "Requirement already satisfied: cycler>=0.10 in /usr/local/lib/python3.11/dist-packages (from matplotlib<3.8.0->pycaret) (0.12.1)\n",
            "Requirement already satisfied: fonttools>=4.22.0 in /usr/local/lib/python3.11/dist-packages (from matplotlib<3.8.0->pycaret) (4.56.0)\n",
            "Requirement already satisfied: kiwisolver>=1.0.1 in /usr/local/lib/python3.11/dist-packages (from matplotlib<3.8.0->pycaret) (1.4.8)\n",
            "Requirement already satisfied: pillow>=6.2.0 in /usr/local/lib/python3.11/dist-packages (from matplotlib<3.8.0->pycaret) (11.1.0)\n",
            "Requirement already satisfied: pyparsing>=2.3.1 in /usr/local/lib/python3.11/dist-packages (from matplotlib<3.8.0->pycaret) (3.2.1)\n",
            "Requirement already satisfied: python-dateutil>=2.7 in /usr/local/lib/python3.11/dist-packages (from matplotlib<3.8.0->pycaret) (2.8.2)\n",
            "Requirement already satisfied: fastjsonschema>=2.15 in /usr/local/lib/python3.11/dist-packages (from nbformat>=4.2.0->pycaret) (2.21.1)\n",
            "Requirement already satisfied: jsonschema>=2.6 in /usr/local/lib/python3.11/dist-packages (from nbformat>=4.2.0->pycaret) (4.23.0)\n",
            "Requirement already satisfied: jupyter-core!=5.0.*,>=4.12 in /usr/local/lib/python3.11/dist-packages (from nbformat>=4.2.0->pycaret) (5.7.2)\n",
            "Requirement already satisfied: llvmlite<0.45,>=0.44.0dev0 in /usr/local/lib/python3.11/dist-packages (from numba>=0.55.0->pycaret) (0.44.0)\n",
            "Requirement already satisfied: pytz>=2020.1 in /usr/local/lib/python3.11/dist-packages (from pandas<2.2.0->pycaret) (2025.1)\n",
            "Requirement already satisfied: tzdata>=2022.1 in /usr/local/lib/python3.11/dist-packages (from pandas<2.2.0->pycaret) (2025.1)\n",
            "Requirement already satisfied: tenacity>=6.2.0 in /usr/local/lib/python3.11/dist-packages (from plotly>=5.14.0->pycaret) (9.0.0)\n",
            "Requirement already satisfied: dash>=2.9.0 in /usr/local/lib/python3.11/dist-packages (from plotly-resampler>=0.8.3.1->pycaret) (2.18.2)\n",
            "Requirement already satisfied: orjson<4.0.0,>=3.8.0 in /usr/local/lib/python3.11/dist-packages (from plotly-resampler>=0.8.3.1->pycaret) (3.10.15)\n",
            "Requirement already satisfied: tsdownsample>=0.1.3 in /usr/local/lib/python3.11/dist-packages (from plotly-resampler>=0.8.3.1->pycaret) (0.1.4.1)\n",
            "Requirement already satisfied: Cython!=0.29.18,!=0.29.31,>=0.29 in /usr/local/lib/python3.11/dist-packages (from pmdarima>=2.0.4->pycaret) (3.0.12)\n",
            "Requirement already satisfied: urllib3 in /usr/local/lib/python3.11/dist-packages (from pmdarima>=2.0.4->pycaret) (2.3.0)\n",
            "Requirement already satisfied: charset-normalizer<4,>=2 in /usr/local/lib/python3.11/dist-packages (from requests>=2.27.1->pycaret) (3.4.1)\n",
            "Requirement already satisfied: idna<4,>=2.5 in /usr/local/lib/python3.11/dist-packages (from requests>=2.27.1->pycaret) (3.10)\n",
            "Requirement already satisfied: certifi>=2017.4.17 in /usr/local/lib/python3.11/dist-packages (from requests>=2.27.1->pycaret) (2025.1.31)\n",
            "Requirement already satisfied: Flask<3.1,>=1.0.4 in /usr/local/lib/python3.11/dist-packages (from dash>=2.9.0->plotly-resampler>=0.8.3.1->pycaret) (3.0.3)\n",
            "Requirement already satisfied: Werkzeug<3.1 in /usr/local/lib/python3.11/dist-packages (from dash>=2.9.0->plotly-resampler>=0.8.3.1->pycaret) (3.0.6)\n",
            "Requirement already satisfied: dash-html-components==2.0.0 in /usr/local/lib/python3.11/dist-packages (from dash>=2.9.0->plotly-resampler>=0.8.3.1->pycaret) (2.0.0)\n",
            "Requirement already satisfied: dash-core-components==2.0.0 in /usr/local/lib/python3.11/dist-packages (from dash>=2.9.0->plotly-resampler>=0.8.3.1->pycaret) (2.0.0)\n",
            "Requirement already satisfied: dash-table==5.0.0 in /usr/local/lib/python3.11/dist-packages (from dash>=2.9.0->plotly-resampler>=0.8.3.1->pycaret) (5.0.0)\n",
            "Requirement already satisfied: typing-extensions>=4.1.1 in /usr/local/lib/python3.11/dist-packages (from dash>=2.9.0->plotly-resampler>=0.8.3.1->pycaret) (4.12.2)\n",
            "Requirement already satisfied: retrying in /usr/local/lib/python3.11/dist-packages (from dash>=2.9.0->plotly-resampler>=0.8.3.1->pycaret) (1.3.4)\n",
            "Requirement already satisfied: nest-asyncio in /usr/local/lib/python3.11/dist-packages (from dash>=2.9.0->plotly-resampler>=0.8.3.1->pycaret) (1.6.0)\n",
            "Requirement already satisfied: debugpy>=1.0 in /usr/local/lib/python3.11/dist-packages (from ipykernel>=4.5.1->ipywidgets>=7.6.5->pycaret) (1.8.0)\n",
            "Requirement already satisfied: jupyter-client>=6.1.12 in /usr/local/lib/python3.11/dist-packages (from ipykernel>=4.5.1->ipywidgets>=7.6.5->pycaret) (6.1.12)\n",
            "Requirement already satisfied: pyzmq>=17 in /usr/local/lib/python3.11/dist-packages (from ipykernel>=4.5.1->ipywidgets>=7.6.5->pycaret) (24.0.1)\n",
            "Requirement already satisfied: tornado>=6.1 in /usr/local/lib/python3.11/dist-packages (from ipykernel>=4.5.1->ipywidgets>=7.6.5->pycaret) (6.4.2)\n",
            "Requirement already satisfied: parso<0.9.0,>=0.8.4 in /usr/local/lib/python3.11/dist-packages (from jedi>=0.16->ipython>=5.5.0->pycaret) (0.8.4)\n",
            "Requirement already satisfied: attrs>=22.2.0 in /usr/local/lib/python3.11/dist-packages (from jsonschema>=2.6->nbformat>=4.2.0->pycaret) (25.1.0)\n",
            "Requirement already satisfied: jsonschema-specifications>=2023.03.6 in /usr/local/lib/python3.11/dist-packages (from jsonschema>=2.6->nbformat>=4.2.0->pycaret) (2024.10.1)\n",
            "Requirement already satisfied: referencing>=0.28.4 in /usr/local/lib/python3.11/dist-packages (from jsonschema>=2.6->nbformat>=4.2.0->pycaret) (0.36.2)\n",
            "Requirement already satisfied: rpds-py>=0.7.1 in /usr/local/lib/python3.11/dist-packages (from jsonschema>=2.6->nbformat>=4.2.0->pycaret) (0.23.1)\n",
            "Requirement already satisfied: platformdirs>=2.5 in /usr/local/lib/python3.11/dist-packages (from jupyter-core!=5.0.*,>=4.12->nbformat>=4.2.0->pycaret) (4.3.6)\n",
            "Requirement already satisfied: ptyprocess>=0.5 in /usr/local/lib/python3.11/dist-packages (from pexpect>4.3->ipython>=5.5.0->pycaret) (0.7.0)\n",
            "Requirement already satisfied: wcwidth in /usr/local/lib/python3.11/dist-packages (from prompt-toolkit!=3.0.0,!=3.0.1,<3.1.0,>=2.0.0->ipython>=5.5.0->pycaret) (0.2.13)\n",
            "Requirement already satisfied: six>=1.5 in /usr/local/lib/python3.11/dist-packages (from python-dateutil>=2.7->matplotlib<3.8.0->pycaret) (1.17.0)\n",
            "Requirement already satisfied: notebook>=4.4.1 in /usr/local/lib/python3.11/dist-packages (from widgetsnbextension~=3.6.0->ipywidgets>=7.6.5->pycaret) (6.5.5)\n",
            "Requirement already satisfied: itsdangerous>=2.1.2 in /usr/local/lib/python3.11/dist-packages (from Flask<3.1,>=1.0.4->dash>=2.9.0->plotly-resampler>=0.8.3.1->pycaret) (2.2.0)\n",
            "Requirement already satisfied: click>=8.1.3 in /usr/local/lib/python3.11/dist-packages (from Flask<3.1,>=1.0.4->dash>=2.9.0->plotly-resampler>=0.8.3.1->pycaret) (8.1.8)\n",
            "Requirement already satisfied: blinker>=1.6.2 in /usr/local/lib/python3.11/dist-packages (from Flask<3.1,>=1.0.4->dash>=2.9.0->plotly-resampler>=0.8.3.1->pycaret) (1.9.0)\n",
            "Requirement already satisfied: argon2-cffi in /usr/local/lib/python3.11/dist-packages (from notebook>=4.4.1->widgetsnbextension~=3.6.0->ipywidgets>=7.6.5->pycaret) (23.1.0)\n",
            "Requirement already satisfied: nbconvert>=5 in /usr/local/lib/python3.11/dist-packages (from notebook>=4.4.1->widgetsnbextension~=3.6.0->ipywidgets>=7.6.5->pycaret) (7.16.6)\n",
            "Requirement already satisfied: Send2Trash>=1.8.0 in /usr/local/lib/python3.11/dist-packages (from notebook>=4.4.1->widgetsnbextension~=3.6.0->ipywidgets>=7.6.5->pycaret) (1.8.3)\n",
            "Requirement already satisfied: terminado>=0.8.3 in /usr/local/lib/python3.11/dist-packages (from notebook>=4.4.1->widgetsnbextension~=3.6.0->ipywidgets>=7.6.5->pycaret) (0.18.1)\n",
            "Requirement already satisfied: prometheus-client in /usr/local/lib/python3.11/dist-packages (from notebook>=4.4.1->widgetsnbextension~=3.6.0->ipywidgets>=7.6.5->pycaret) (0.21.1)\n",
            "Requirement already satisfied: nbclassic>=0.4.7 in /usr/local/lib/python3.11/dist-packages (from notebook>=4.4.1->widgetsnbextension~=3.6.0->ipywidgets>=7.6.5->pycaret) (1.2.0)\n",
            "Requirement already satisfied: notebook-shim>=0.2.3 in /usr/local/lib/python3.11/dist-packages (from nbclassic>=0.4.7->notebook>=4.4.1->widgetsnbextension~=3.6.0->ipywidgets>=7.6.5->pycaret) (0.2.4)\n",
            "Requirement already satisfied: beautifulsoup4 in /usr/local/lib/python3.11/dist-packages (from nbconvert>=5->notebook>=4.4.1->widgetsnbextension~=3.6.0->ipywidgets>=7.6.5->pycaret) (4.13.3)\n",
            "Requirement already satisfied: bleach!=5.0.0 in /usr/local/lib/python3.11/dist-packages (from bleach[css]!=5.0.0->nbconvert>=5->notebook>=4.4.1->widgetsnbextension~=3.6.0->ipywidgets>=7.6.5->pycaret) (6.2.0)\n",
            "Requirement already satisfied: defusedxml in /usr/local/lib/python3.11/dist-packages (from nbconvert>=5->notebook>=4.4.1->widgetsnbextension~=3.6.0->ipywidgets>=7.6.5->pycaret) (0.7.1)\n",
            "Requirement already satisfied: jupyterlab-pygments in /usr/local/lib/python3.11/dist-packages (from nbconvert>=5->notebook>=4.4.1->widgetsnbextension~=3.6.0->ipywidgets>=7.6.5->pycaret) (0.3.0)\n",
            "Requirement already satisfied: mistune<4,>=2.0.3 in /usr/local/lib/python3.11/dist-packages (from nbconvert>=5->notebook>=4.4.1->widgetsnbextension~=3.6.0->ipywidgets>=7.6.5->pycaret) (3.1.2)\n",
            "Requirement already satisfied: nbclient>=0.5.0 in /usr/local/lib/python3.11/dist-packages (from nbconvert>=5->notebook>=4.4.1->widgetsnbextension~=3.6.0->ipywidgets>=7.6.5->pycaret) (0.10.2)\n",
            "Requirement already satisfied: pandocfilters>=1.4.1 in /usr/local/lib/python3.11/dist-packages (from nbconvert>=5->notebook>=4.4.1->widgetsnbextension~=3.6.0->ipywidgets>=7.6.5->pycaret) (1.5.1)\n",
            "Requirement already satisfied: argon2-cffi-bindings in /usr/local/lib/python3.11/dist-packages (from argon2-cffi->notebook>=4.4.1->widgetsnbextension~=3.6.0->ipywidgets>=7.6.5->pycaret) (21.2.0)\n",
            "Requirement already satisfied: webencodings in /usr/local/lib/python3.11/dist-packages (from bleach!=5.0.0->bleach[css]!=5.0.0->nbconvert>=5->notebook>=4.4.1->widgetsnbextension~=3.6.0->ipywidgets>=7.6.5->pycaret) (0.5.1)\n",
            "Requirement already satisfied: tinycss2<1.5,>=1.1.0 in /usr/local/lib/python3.11/dist-packages (from bleach[css]!=5.0.0->nbconvert>=5->notebook>=4.4.1->widgetsnbextension~=3.6.0->ipywidgets>=7.6.5->pycaret) (1.4.0)\n",
            "Requirement already satisfied: jupyter-server<3,>=1.8 in /usr/local/lib/python3.11/dist-packages (from notebook-shim>=0.2.3->nbclassic>=0.4.7->notebook>=4.4.1->widgetsnbextension~=3.6.0->ipywidgets>=7.6.5->pycaret) (1.24.0)\n",
            "Requirement already satisfied: cffi>=1.0.1 in /usr/local/lib/python3.11/dist-packages (from argon2-cffi-bindings->argon2-cffi->notebook>=4.4.1->widgetsnbextension~=3.6.0->ipywidgets>=7.6.5->pycaret) (1.17.1)\n",
            "Requirement already satisfied: soupsieve>1.2 in /usr/local/lib/python3.11/dist-packages (from beautifulsoup4->nbconvert>=5->notebook>=4.4.1->widgetsnbextension~=3.6.0->ipywidgets>=7.6.5->pycaret) (2.6)\n",
            "Requirement already satisfied: pycparser in /usr/local/lib/python3.11/dist-packages (from cffi>=1.0.1->argon2-cffi-bindings->argon2-cffi->notebook>=4.4.1->widgetsnbextension~=3.6.0->ipywidgets>=7.6.5->pycaret) (2.22)\n",
            "Requirement already satisfied: anyio<4,>=3.1.0 in /usr/local/lib/python3.11/dist-packages (from jupyter-server<3,>=1.8->notebook-shim>=0.2.3->nbclassic>=0.4.7->notebook>=4.4.1->widgetsnbextension~=3.6.0->ipywidgets>=7.6.5->pycaret) (3.7.1)\n",
            "Requirement already satisfied: websocket-client in /usr/local/lib/python3.11/dist-packages (from jupyter-server<3,>=1.8->notebook-shim>=0.2.3->nbclassic>=0.4.7->notebook>=4.4.1->widgetsnbextension~=3.6.0->ipywidgets>=7.6.5->pycaret) (1.8.0)\n",
            "Requirement already satisfied: sniffio>=1.1 in /usr/local/lib/python3.11/dist-packages (from anyio<4,>=3.1.0->jupyter-server<3,>=1.8->notebook-shim>=0.2.3->nbclassic>=0.4.7->notebook>=4.4.1->widgetsnbextension~=3.6.0->ipywidgets>=7.6.5->pycaret) (1.3.1)\n"
          ]
        }
      ]
    },
    {
      "cell_type": "code",
      "metadata": {
        "id": "7LfnpwSS9nue"
      },
      "source": [
        "#εισαγωγή βιβλιοθηκών - πακέτων\n",
        "import pycaret\n",
        "import pandas as pd\n",
        "import numpy as np\n",
        "import matplotlib.pyplot as plt\n",
        "from pycaret.classification import *"
      ],
      "execution_count": 2,
      "outputs": []
    },
    {
      "cell_type": "code",
      "metadata": {
        "colab": {
          "base_uri": "https://localhost:8080/"
        },
        "id": "ZunbzPVa9a6g",
        "outputId": "253288ac-fa4e-4376-c222-c953fe3de4cf"
      },
      "source": [
        "#εισαγωγή του συνόλου δεδομένων\n",
        "url = 'https://raw.githubusercontent.com/kdemertzis/EKPA/refs/heads/main/Data/dga_domain.csv'\n",
        "df = pd.read_csv(url)\n",
        "#έλεγχος σχήματος συνόλου δεδομένων\n",
        "print(df.shape)"
      ],
      "execution_count": 3,
      "outputs": [
        {
          "output_type": "stream",
          "name": "stdout",
          "text": [
            "(117588, 6)\n"
          ]
        }
      ]
    },
    {
      "cell_type": "code",
      "source": [
        "#ανακάτεμα των δεδομένων\n",
        "df = df.sample(frac = 1)\n",
        "print(df.head())"
      ],
      "metadata": {
        "id": "DCynJDtpYx8z",
        "outputId": "71f4202f-cd99-4b83-b62a-25f316665bdf",
        "colab": {
          "base_uri": "https://localhost:8080/"
        }
      },
      "execution_count": 4,
      "outputs": [
        {
          "output_type": "stream",
          "name": "stdout",
          "text": [
            "        length   entropy   alexa_grams   word_grams       diff  class\n",
            "113532      29  3.604032     19.776600    28.550232  -8.773632    dga\n",
            "12403       11  2.913977     25.608622    34.717000  -9.108378  legit\n",
            "30688       15  3.106891     72.005478    92.890281 -20.884803  legit\n",
            "88999       15  3.056565     64.720972    60.052215   4.668757  legit\n",
            "108202      20  4.037401     19.283996    19.105864   0.178132    dga\n"
          ]
        }
      ]
    },
    {
      "cell_type": "code",
      "metadata": {
        "id": "J6y3Zhq2-EZ8"
      },
      "source": [
        "#εγκατάσταση του συνόλου δεδομένων\n",
        "grid = setup(data=df, target=df.columns[-1], html=False, verbose=False)"
      ],
      "execution_count": 5,
      "outputs": []
    },
    {
      "cell_type": "code",
      "metadata": {
        "colab": {
          "base_uri": "https://localhost:8080/"
        },
        "id": "ZGJ7kigzA1Rf",
        "outputId": "a683a0dc-14b5-4cd0-996a-c430dec09a54"
      },
      "source": [
        "#σύγκριση των διαθέσιμων μοντέλων ΜΜ\n",
        "best = compare_models(cross_validation=False, n_select = 1)\n",
        "%load_ext tensorboard"
      ],
      "execution_count": 6,
      "outputs": [
        {
          "output_type": "stream",
          "name": "stderr",
          "text": [
            "                                                           "
          ]
        },
        {
          "output_type": "stream",
          "name": "stdout",
          "text": [
            "                                    Model  Accuracy     AUC  Recall   Prec.  \\\n",
            "lightgbm  Light Gradient Boosting Machine    0.8864  0.9098  0.8864  0.8870   \n",
            "gbc          Gradient Boosting Classifier    0.8863  0.9066  0.8863  0.8875   \n",
            "xgboost         Extreme Gradient Boosting    0.8854  0.9076  0.8854  0.8848   \n",
            "rf               Random Forest Classifier    0.8787  0.8923  0.8787  0.8745   \n",
            "lr                    Logistic Regression    0.8751  0.8747  0.8751  0.8738   \n",
            "knn                K Neighbors Classifier    0.8733  0.8644  0.8733  0.8685   \n",
            "et                 Extra Trees Classifier    0.8695  0.8841  0.8695  0.8639   \n",
            "svm                   SVM - Linear Kernel    0.8694  0.0000  0.8694  0.8663   \n",
            "qda       Quadratic Discriminant Analysis    0.8574  0.8777  0.8574  0.8566   \n",
            "lda          Linear Discriminant Analysis    0.8496  0.8593  0.8496  0.8544   \n",
            "ridge                    Ridge Classifier    0.8318  0.0000  0.8318  0.8162   \n",
            "dt               Decision Tree Classifier    0.8263  0.7863  0.8263  0.8276   \n",
            "ada                  Ada Boost Classifier    0.7672  0.5757  0.7672  0.6467   \n",
            "nb                            Naive Bayes    0.7664  0.7801  0.7664  0.7392   \n",
            "dummy                    Dummy Classifier    0.7342  0.0000  0.7342  0.5391   \n",
            "\n",
            "              F1   Kappa     MCC  TT (Sec)  \n",
            "lightgbm  0.8772  0.6909  0.7090      1.53  \n",
            "gbc       0.8765  0.6894  0.7091     60.63  \n",
            "xgboost   0.8767  0.6897  0.7059      2.29  \n",
            "rf        0.8716  0.6784  0.6880     23.31  \n",
            "lr        0.8658  0.6608  0.6772      4.68  \n",
            "knn       0.8659  0.6633  0.6730      0.14  \n",
            "et        0.8637  0.6595  0.6652      7.01  \n",
            "svm       0.8611  0.6477  0.6610      4.99  \n",
            "qda       0.8521  0.6370  0.6417      0.09  \n",
            "lda       0.8363  0.5740  0.6026      0.07  \n",
            "ridge     0.7979  0.4759  0.5432      0.07  \n",
            "dt        0.8269  0.5766  0.5767      1.00  \n",
            "ada       0.6740  0.2210  0.3347      4.56  \n",
            "nb        0.7435  0.3661  0.3777      0.05  \n",
            "dummy     0.6217  0.0000  0.0000      0.04  \n"
          ]
        },
        {
          "output_type": "stream",
          "name": "stderr",
          "text": [
            "\r"
          ]
        }
      ]
    },
    {
      "cell_type": "code",
      "metadata": {
        "colab": {
          "base_uri": "https://localhost:8080/"
        },
        "id": "TorFLtNx-kCm",
        "outputId": "37e8a5c4-00aa-4f2c-f2b4-2d479d279a08"
      },
      "source": [
        "#αναφορά των υπερπαραμέτρων του μοντέλου με την υψηλότερη απόδοση\n",
        "print(best)"
      ],
      "execution_count": 7,
      "outputs": [
        {
          "output_type": "stream",
          "name": "stdout",
          "text": [
            "LGBMClassifier(boosting_type='gbdt', class_weight=None, colsample_bytree=1.0,\n",
            "               importance_type='split', learning_rate=0.1, max_depth=-1,\n",
            "               min_child_samples=20, min_child_weight=0.001, min_split_gain=0.0,\n",
            "               n_estimators=100, n_jobs=-1, num_leaves=31, objective=None,\n",
            "               random_state=674, reg_alpha=0.0, reg_lambda=0.0, subsample=1.0,\n",
            "               subsample_for_bin=200000, subsample_freq=0)\n"
          ]
        }
      ]
    },
    {
      "cell_type": "code",
      "metadata": {
        "id": "XJTnGY38yxrE",
        "outputId": "521fc587-1c93-4362-e7e1-fd8f6a0f5481",
        "colab": {
          "base_uri": "https://localhost:8080/",
          "height": 592,
          "referenced_widgets": [
            "e33718e65b5840d5b8c5e21ef81620a1",
            "df94623b0e784f3aa2fe19feabcddaff",
            "322f7fc747e74ca497d375f14ac334fa",
            "065d20e3f26243bd907740f861abc899",
            "7a38c73e8de249849acdb2e8646f76e3",
            "c6c5baf3b93e4086aa32d60bf0435bcc",
            "6210c60d97654498a31f929511eb1563"
          ]
        }
      },
      "source": [
        "#μέτρα αξιολόγησης του μοντέλου με την υψηλότερη απόδοση\n",
        "evaluate_model(best)"
      ],
      "execution_count": 8,
      "outputs": [
        {
          "output_type": "display_data",
          "data": {
            "text/plain": [
              "interactive(children=(ToggleButtons(description='Plot Type:', icons=('',), options=(('Pipeline Plot', 'pipelin…"
            ],
            "application/vnd.jupyter.widget-view+json": {
              "version_major": 2,
              "version_minor": 0,
              "model_id": "e33718e65b5840d5b8c5e21ef81620a1"
            }
          },
          "metadata": {
            "application/vnd.jupyter.widget-view+json": {
              "colab": {
                "custom_widget_manager": {
                  "url": "https://ssl.gstatic.com/colaboratory-static/widgets/colab-cdn-widget-manager/2b70e893a8ba7c0f/manager.min.js"
                }
              }
            }
          }
        }
      ]
    }
  ]
}